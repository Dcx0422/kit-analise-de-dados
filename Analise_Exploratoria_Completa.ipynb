{
 "cells": [
  {
   "cell_type": "markdown",
   "metadata": {},
   "source": [
    "# Demonstração Completa do Kit do Analista\n",
    "\n",
    "Este notebook é um teste de estresse para a ferramenta `ferramentas_analista.py`, validando sua capacidade de carregar dados diversos e converter código de notebook com comandos específicos do Jupyter."
   ]
  },
  {
   "cell_type": "code",
   "execution_count": null,
   "metadata": {},
   "outputs": [],
   "source": [
    "# Célula 1: Importações iniciais\n",
    "from ferramentas_analista import carregar_dados, converter_notebook_para_py\n",
    "import pandas as pd\n",
    "import matplotlib.pyplot as plt\n",
    "import seaborn as sns\n",
    "%matplotlib inline\n",
    "print(\"✅ Ferramentas e bibliotecas prontas para uso!\")"
   ]
  },
  {
   "cell_type": "markdown",
   "metadata": {},
   "source": [
    "## Passo 1: Carregando Dados Bem-Formados\n",
    "\n",
    "Primeiro, vamos carregar nossos arquivos de exemplo que estão corretos para mostrar a versatilidade da função `carregar_dados` com diferentes formatos e estruturas."
   ]
  },
  {
   "cell_type": "code",
   "execution_count": null,
   "metadata": {},
   "outputs": [],
   "source": [
    "df_vendas = carregar_dados('relatorio_vendas_BR.csv')\n",
    "print(\"-\"*50)\n",
    "df_feedback = carregar_dados('dados_feedback_US.csv')"
   ]
  },
  {
   "cell_type": "markdown",
   "metadata": {},
   "source": [
    "## Passo 2: O Teste de Fogo - Modo de Recuperação Automático\n",
    "\n",
    "Agora, o grande teste. Vamos carregar um arquivo CSV sabidamente malformado (`dados_clientes_malformado.csv`). \n",
    "\n",
    "Esperamos que a função `carregar_dados` **não falhe**. Em vez disso, ela deve automaticamente: \n",
    "1. Tentar o modo rápido e identificar o erro.\n",
    "2. Entrar no modo de segurança.\n",
    "3. Carregar apenas as linhas válidas.\n",
    "4. Criar um arquivo `_erros.csv` com as linhas problemáticas."
   ]
  },
  {
   "cell_type": "code",
   "execution_count": null,
   "metadata": {},
   "outputs": [],
   "source": [
    "df_clientes_bons = carregar_dados('dados_clientes_malformado.csv')"
   ]
  },
  {
   "cell_type": "markdown",
   "metadata": {},
   "source": [
    "### Verificando os Resultados do Modo de Recuperação\n",
    "\n",
    "Vamos inspecionar os dois resultados: o DataFrame com os dados bons e o novo arquivo com os dados em quarentena."
   ]
  },
  {
   "cell_type": "code",
   "execution_count": null,
   "metadata": {},
   "outputs": [],
   "source": [
    "print(\"--- DataFrame Carregado (apenas linhas boas) ---\")\n",
    "if df_clientes_bons is not None:\n",
    "    # Esperamos 4 linhas boas + cabeçalho\n",
    "    print(f\"O DataFrame final contém {len(df_clientes_bons)} linhas válidas.\")\n",
    "    display(df_clientes_bons)"
   ]
  },
  {
   "cell_type": "code",
   "execution_count": null,
   "metadata": {},
   "outputs": [],
   "source": [
    "print(\"--- Conteúdo do Arquivo de Erros Gerado ---\")\n",
    "\n",
    "# A ferramenta deve ter criado este arquivo automaticamente\n",
    "caminho_arquivo_erros = 'dados_clientes_malformado_erros.csv'\n",
    "\n",
    "try:\n",
    "    df_erros = pd.read_csv(caminho_arquivo_erros)\n",
    "    print(f\"Arquivo '{caminho_arquivo_erros}' lido com sucesso.\")\n",
    "    display(df_erros)\n",
    "except FileNotFoundError:\n",
    "    print(f\"ERRO: O arquivo '{caminho_arquivo_erros}' não foi encontrado! A recuperação pode ter falhado.\")"
   ]
  },
  {
   "cell_type": "markdown",
   "metadata": {},
   "source": [
    "## Passo 3: Análise e Visualização (com dados limpos)\n",
    "\n",
    "Continuamos a análise normalmente, agora com a certeza de que estamos trabalhando com um conjunto de dados íntegro."
   ]
  },
  {
   "cell_type": "code",
   "execution_count": null,
   "metadata": {},
   "outputs": [],
   "source": [
    "if df_vendas is not None:\n",
    "    plt.figure(figsize=(10, 6))\n",
    "    sns.barplot(data=df_vendas, x='Preço', y='Categoria')\n",
    "    plt.title('Preço Médio por Categoria de Produto')\n",
    "    plt.xlabel('Preço (R$)')\n",
    "    plt.ylabel('Categoria')\n",
    "    plt.grid(axis='x', linestyle='--', alpha=0.7)\n",
    "    plt.show()"
   ]
  },
  {
   "cell_type": "markdown",
   "metadata": {},
   "source": [
    "## Passo 4: Conversão Final e Relatório de Compatibilidade\n",
    "\n",
    "Finalmente, exportamos nosso trabalho para um script Python, e o conversor irá nos avisar sobre os comandos específicos do Jupyter que foram tratados."
   ]
  },
  {
   "cell_type": "code",
   "execution_count": null,
   "metadata": {},
   "outputs": [],
   "source": [
    "# O nome deste arquivo é 'Analise_Exploratoria_Completa.ipynb'\n",
    "converter_notebook_para_py('Analise_Exploratoria_Completa.ipynb')"
   ]
  }
 ],
 "metadata": {
  "kernelspec": {
   "display_name": "Python 3",
   "language": "python",
   "name": "python3"
  },
  "language_info": {
   "codemirror_mode": {
    "name": "ipython",
    "version": 3
   },
   "file_extension": ".py",
   "mimetype": "text/x-python",
   "name": "python",
   "nbconvert_exporter": "python",
   "pygments_lexer": "ipython3",
   "version": "3.10.9"
  }
 },
 "nbformat": 4,
 "nbformat_minor": 4
}